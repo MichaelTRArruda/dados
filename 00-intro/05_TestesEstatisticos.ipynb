{
  "cells": [
    {
      "cell_type": "markdown",
      "id": "ae629611",
      "metadata": {
        "id": "ae629611"
      },
      "source": [
        "# Teste t Pareado: Comparando Pressão Arterial Antes e Depois de uma Intervenção\n",
        "\n",
        "Este notebook foi elaborado para uma aula introdutória de testes estatísticos, demonstrando como comparar medidas antes e depois de uma intervenção utilizando o teste t pareado. O exemplo utiliza dados de pressão arterial coletados antes e após uma intervenção em um grupo de indivíduos."
      ]
    },
    {
      "cell_type": "markdown",
      "id": "5b245b4a",
      "metadata": {
        "id": "5b245b4a"
      },
      "source": [
        "## 1. Importação de Bibliotecas\n",
        "\n",
        "Vamos começar importando as bibliotecas essenciais para análise de dados, visualização e execução de testes estatísticos: pandas, matplotlib.pyplot e scipy.stats."
      ]
    },
    {
      "cell_type": "code",
      "execution_count": 1,
      "id": "c521bfe6",
      "metadata": {
        "id": "c521bfe6"
      },
      "outputs": [],
      "source": [
        "import pandas as pd\n",
        "import matplotlib.pyplot as plt\n",
        "from scipy import stats"
      ]
    },
    {
      "cell_type": "markdown",
      "id": "e0a4e944",
      "metadata": {
        "id": "e0a4e944"
      },
      "source": [
        "## 2. Carregamento e Visualização dos Dados\n",
        "\n",
        "Carregue o conjunto de dados de pressão arterial e visualize as primeiras linhas para entender a estrutura dos dados."
      ]
    },
    {
      "cell_type": "code",
      "execution_count": 2,
      "id": "58155e19",
      "metadata": {
        "id": "58155e19",
        "outputId": "7e014d44-cae0-4837-9a44-d3399d10df5e",
        "colab": {
          "base_uri": "https://localhost:8080/",
          "height": 587
        }
      },
      "outputs": [
        {
          "output_type": "error",
          "ename": "ParserError",
          "evalue": "Error tokenizing data. C error: Expected 1 fields in line 9, saw 2\n",
          "traceback": [
            "\u001b[0;31m---------------------------------------------------------------------------\u001b[0m",
            "\u001b[0;31mParserError\u001b[0m                               Traceback (most recent call last)",
            "\u001b[0;32m<ipython-input-2-126125309889>\u001b[0m in \u001b[0;36m<cell line: 0>\u001b[0;34m()\u001b[0m\n\u001b[1;32m      1\u001b[0m \u001b[0;31m# Carregar os dados de pressão arterial\u001b[0m\u001b[0;34m\u001b[0m\u001b[0;34m\u001b[0m\u001b[0m\n\u001b[0;32m----> 2\u001b[0;31m \u001b[0mdf\u001b[0m \u001b[0;34m=\u001b[0m \u001b[0mpd\u001b[0m\u001b[0;34m.\u001b[0m\u001b[0mread_csv\u001b[0m\u001b[0;34m(\u001b[0m\u001b[0;34m\"https://www.kaggle.com/datasets/jayaantanaath/student-habits-vs-academic-performance?select=student_habits_performance.csv\"\u001b[0m\u001b[0;34m)\u001b[0m\u001b[0;34m\u001b[0m\u001b[0;34m\u001b[0m\u001b[0m\n\u001b[0m\u001b[1;32m      3\u001b[0m \u001b[0;34m\u001b[0m\u001b[0m\n\u001b[1;32m      4\u001b[0m \u001b[0;31m# Visualizar as primeiras linhas do DataFrame\u001b[0m\u001b[0;34m\u001b[0m\u001b[0;34m\u001b[0m\u001b[0m\n\u001b[1;32m      5\u001b[0m \u001b[0mdf\u001b[0m\u001b[0;34m.\u001b[0m\u001b[0mhead\u001b[0m\u001b[0;34m(\u001b[0m\u001b[0;34m)\u001b[0m\u001b[0;34m\u001b[0m\u001b[0;34m\u001b[0m\u001b[0m\n",
            "\u001b[0;32m/usr/local/lib/python3.11/dist-packages/pandas/io/parsers/readers.py\u001b[0m in \u001b[0;36mread_csv\u001b[0;34m(filepath_or_buffer, sep, delimiter, header, names, index_col, usecols, dtype, engine, converters, true_values, false_values, skipinitialspace, skiprows, skipfooter, nrows, na_values, keep_default_na, na_filter, verbose, skip_blank_lines, parse_dates, infer_datetime_format, keep_date_col, date_parser, date_format, dayfirst, cache_dates, iterator, chunksize, compression, thousands, decimal, lineterminator, quotechar, quoting, doublequote, escapechar, comment, encoding, encoding_errors, dialect, on_bad_lines, delim_whitespace, low_memory, memory_map, float_precision, storage_options, dtype_backend)\u001b[0m\n\u001b[1;32m   1024\u001b[0m     \u001b[0mkwds\u001b[0m\u001b[0;34m.\u001b[0m\u001b[0mupdate\u001b[0m\u001b[0;34m(\u001b[0m\u001b[0mkwds_defaults\u001b[0m\u001b[0;34m)\u001b[0m\u001b[0;34m\u001b[0m\u001b[0;34m\u001b[0m\u001b[0m\n\u001b[1;32m   1025\u001b[0m \u001b[0;34m\u001b[0m\u001b[0m\n\u001b[0;32m-> 1026\u001b[0;31m     \u001b[0;32mreturn\u001b[0m \u001b[0m_read\u001b[0m\u001b[0;34m(\u001b[0m\u001b[0mfilepath_or_buffer\u001b[0m\u001b[0;34m,\u001b[0m \u001b[0mkwds\u001b[0m\u001b[0;34m)\u001b[0m\u001b[0;34m\u001b[0m\u001b[0;34m\u001b[0m\u001b[0m\n\u001b[0m\u001b[1;32m   1027\u001b[0m \u001b[0;34m\u001b[0m\u001b[0m\n\u001b[1;32m   1028\u001b[0m \u001b[0;34m\u001b[0m\u001b[0m\n",
            "\u001b[0;32m/usr/local/lib/python3.11/dist-packages/pandas/io/parsers/readers.py\u001b[0m in \u001b[0;36m_read\u001b[0;34m(filepath_or_buffer, kwds)\u001b[0m\n\u001b[1;32m    624\u001b[0m \u001b[0;34m\u001b[0m\u001b[0m\n\u001b[1;32m    625\u001b[0m     \u001b[0;32mwith\u001b[0m \u001b[0mparser\u001b[0m\u001b[0;34m:\u001b[0m\u001b[0;34m\u001b[0m\u001b[0;34m\u001b[0m\u001b[0m\n\u001b[0;32m--> 626\u001b[0;31m         \u001b[0;32mreturn\u001b[0m \u001b[0mparser\u001b[0m\u001b[0;34m.\u001b[0m\u001b[0mread\u001b[0m\u001b[0;34m(\u001b[0m\u001b[0mnrows\u001b[0m\u001b[0;34m)\u001b[0m\u001b[0;34m\u001b[0m\u001b[0;34m\u001b[0m\u001b[0m\n\u001b[0m\u001b[1;32m    627\u001b[0m \u001b[0;34m\u001b[0m\u001b[0m\n\u001b[1;32m    628\u001b[0m \u001b[0;34m\u001b[0m\u001b[0m\n",
            "\u001b[0;32m/usr/local/lib/python3.11/dist-packages/pandas/io/parsers/readers.py\u001b[0m in \u001b[0;36mread\u001b[0;34m(self, nrows)\u001b[0m\n\u001b[1;32m   1921\u001b[0m                     \u001b[0mcolumns\u001b[0m\u001b[0;34m,\u001b[0m\u001b[0;34m\u001b[0m\u001b[0;34m\u001b[0m\u001b[0m\n\u001b[1;32m   1922\u001b[0m                     \u001b[0mcol_dict\u001b[0m\u001b[0;34m,\u001b[0m\u001b[0;34m\u001b[0m\u001b[0;34m\u001b[0m\u001b[0m\n\u001b[0;32m-> 1923\u001b[0;31m                 \u001b[0;34m)\u001b[0m \u001b[0;34m=\u001b[0m \u001b[0mself\u001b[0m\u001b[0;34m.\u001b[0m\u001b[0m_engine\u001b[0m\u001b[0;34m.\u001b[0m\u001b[0mread\u001b[0m\u001b[0;34m(\u001b[0m  \u001b[0;31m# type: ignore[attr-defined]\u001b[0m\u001b[0;34m\u001b[0m\u001b[0;34m\u001b[0m\u001b[0m\n\u001b[0m\u001b[1;32m   1924\u001b[0m                     \u001b[0mnrows\u001b[0m\u001b[0;34m\u001b[0m\u001b[0;34m\u001b[0m\u001b[0m\n\u001b[1;32m   1925\u001b[0m                 )\n",
            "\u001b[0;32m/usr/local/lib/python3.11/dist-packages/pandas/io/parsers/c_parser_wrapper.py\u001b[0m in \u001b[0;36mread\u001b[0;34m(self, nrows)\u001b[0m\n\u001b[1;32m    232\u001b[0m         \u001b[0;32mtry\u001b[0m\u001b[0;34m:\u001b[0m\u001b[0;34m\u001b[0m\u001b[0;34m\u001b[0m\u001b[0m\n\u001b[1;32m    233\u001b[0m             \u001b[0;32mif\u001b[0m \u001b[0mself\u001b[0m\u001b[0;34m.\u001b[0m\u001b[0mlow_memory\u001b[0m\u001b[0;34m:\u001b[0m\u001b[0;34m\u001b[0m\u001b[0;34m\u001b[0m\u001b[0m\n\u001b[0;32m--> 234\u001b[0;31m                 \u001b[0mchunks\u001b[0m \u001b[0;34m=\u001b[0m \u001b[0mself\u001b[0m\u001b[0;34m.\u001b[0m\u001b[0m_reader\u001b[0m\u001b[0;34m.\u001b[0m\u001b[0mread_low_memory\u001b[0m\u001b[0;34m(\u001b[0m\u001b[0mnrows\u001b[0m\u001b[0;34m)\u001b[0m\u001b[0;34m\u001b[0m\u001b[0;34m\u001b[0m\u001b[0m\n\u001b[0m\u001b[1;32m    235\u001b[0m                 \u001b[0;31m# destructive to chunks\u001b[0m\u001b[0;34m\u001b[0m\u001b[0;34m\u001b[0m\u001b[0m\n\u001b[1;32m    236\u001b[0m                 \u001b[0mdata\u001b[0m \u001b[0;34m=\u001b[0m \u001b[0m_concatenate_chunks\u001b[0m\u001b[0;34m(\u001b[0m\u001b[0mchunks\u001b[0m\u001b[0;34m)\u001b[0m\u001b[0;34m\u001b[0m\u001b[0;34m\u001b[0m\u001b[0m\n",
            "\u001b[0;32mparsers.pyx\u001b[0m in \u001b[0;36mpandas._libs.parsers.TextReader.read_low_memory\u001b[0;34m()\u001b[0m\n",
            "\u001b[0;32mparsers.pyx\u001b[0m in \u001b[0;36mpandas._libs.parsers.TextReader._read_rows\u001b[0;34m()\u001b[0m\n",
            "\u001b[0;32mparsers.pyx\u001b[0m in \u001b[0;36mpandas._libs.parsers.TextReader._tokenize_rows\u001b[0;34m()\u001b[0m\n",
            "\u001b[0;32mparsers.pyx\u001b[0m in \u001b[0;36mpandas._libs.parsers.TextReader._check_tokenize_status\u001b[0;34m()\u001b[0m\n",
            "\u001b[0;32mparsers.pyx\u001b[0m in \u001b[0;36mpandas._libs.parsers.raise_parser_error\u001b[0;34m()\u001b[0m\n",
            "\u001b[0;31mParserError\u001b[0m: Error tokenizing data. C error: Expected 1 fields in line 9, saw 2\n"
          ]
        }
      ],
      "source": [
        "# Carregar os dados de pressão arterial\n",
        "df = pd.read_csv(\"https://www.kaggle.com/datasets/jayaantanaath/student-habits-vs-academic-performance?select=student_habits_performance.csv\")\n",
        "\n",
        "# Visualizar as primeiras linhas do DataFrame\n",
        "df.head()"
      ]
    },
    {
      "cell_type": "markdown",
      "id": "5ff085f3",
      "metadata": {
        "id": "5ff085f3"
      },
      "source": [
        "## 3. Estatísticas Descritivas\n",
        "\n",
        "Vamos calcular estatísticas descritivas (como média, desvio padrão e quartis) para as colunas de pressão arterial antes e depois da intervenção."
      ]
    },
    {
      "cell_type": "code",
      "execution_count": 3,
      "id": "fa9a45f4",
      "metadata": {
        "id": "fa9a45f4",
        "outputId": "0e82a95e-3e4a-40d8-bc85-c59b883416f2",
        "colab": {
          "base_uri": "https://localhost:8080/",
          "height": 300
        }
      },
      "outputs": [
        {
          "output_type": "execute_result",
          "data": {
            "text/plain": [
              "        bp_before    bp_after\n",
              "count  120.000000  120.000000\n",
              "mean   156.450000  151.358333\n",
              "std     11.389845   14.177622\n",
              "min    138.000000  125.000000\n",
              "25%    147.000000  140.750000\n",
              "50%    154.500000  149.500000\n",
              "75%    164.000000  161.000000\n",
              "max    185.000000  185.000000"
            ],
            "text/html": [
              "\n",
              "  <div id=\"df-a5d785c1-b7cd-438c-8c53-b37dba1340ed\" class=\"colab-df-container\">\n",
              "    <div>\n",
              "<style scoped>\n",
              "    .dataframe tbody tr th:only-of-type {\n",
              "        vertical-align: middle;\n",
              "    }\n",
              "\n",
              "    .dataframe tbody tr th {\n",
              "        vertical-align: top;\n",
              "    }\n",
              "\n",
              "    .dataframe thead th {\n",
              "        text-align: right;\n",
              "    }\n",
              "</style>\n",
              "<table border=\"1\" class=\"dataframe\">\n",
              "  <thead>\n",
              "    <tr style=\"text-align: right;\">\n",
              "      <th></th>\n",
              "      <th>bp_before</th>\n",
              "      <th>bp_after</th>\n",
              "    </tr>\n",
              "  </thead>\n",
              "  <tbody>\n",
              "    <tr>\n",
              "      <th>count</th>\n",
              "      <td>120.000000</td>\n",
              "      <td>120.000000</td>\n",
              "    </tr>\n",
              "    <tr>\n",
              "      <th>mean</th>\n",
              "      <td>156.450000</td>\n",
              "      <td>151.358333</td>\n",
              "    </tr>\n",
              "    <tr>\n",
              "      <th>std</th>\n",
              "      <td>11.389845</td>\n",
              "      <td>14.177622</td>\n",
              "    </tr>\n",
              "    <tr>\n",
              "      <th>min</th>\n",
              "      <td>138.000000</td>\n",
              "      <td>125.000000</td>\n",
              "    </tr>\n",
              "    <tr>\n",
              "      <th>25%</th>\n",
              "      <td>147.000000</td>\n",
              "      <td>140.750000</td>\n",
              "    </tr>\n",
              "    <tr>\n",
              "      <th>50%</th>\n",
              "      <td>154.500000</td>\n",
              "      <td>149.500000</td>\n",
              "    </tr>\n",
              "    <tr>\n",
              "      <th>75%</th>\n",
              "      <td>164.000000</td>\n",
              "      <td>161.000000</td>\n",
              "    </tr>\n",
              "    <tr>\n",
              "      <th>max</th>\n",
              "      <td>185.000000</td>\n",
              "      <td>185.000000</td>\n",
              "    </tr>\n",
              "  </tbody>\n",
              "</table>\n",
              "</div>\n",
              "    <div class=\"colab-df-buttons\">\n",
              "\n",
              "  <div class=\"colab-df-container\">\n",
              "    <button class=\"colab-df-convert\" onclick=\"convertToInteractive('df-a5d785c1-b7cd-438c-8c53-b37dba1340ed')\"\n",
              "            title=\"Convert this dataframe to an interactive table.\"\n",
              "            style=\"display:none;\">\n",
              "\n",
              "  <svg xmlns=\"http://www.w3.org/2000/svg\" height=\"24px\" viewBox=\"0 -960 960 960\">\n",
              "    <path d=\"M120-120v-720h720v720H120Zm60-500h600v-160H180v160Zm220 220h160v-160H400v160Zm0 220h160v-160H400v160ZM180-400h160v-160H180v160Zm440 0h160v-160H620v160ZM180-180h160v-160H180v160Zm440 0h160v-160H620v160Z\"/>\n",
              "  </svg>\n",
              "    </button>\n",
              "\n",
              "  <style>\n",
              "    .colab-df-container {\n",
              "      display:flex;\n",
              "      gap: 12px;\n",
              "    }\n",
              "\n",
              "    .colab-df-convert {\n",
              "      background-color: #E8F0FE;\n",
              "      border: none;\n",
              "      border-radius: 50%;\n",
              "      cursor: pointer;\n",
              "      display: none;\n",
              "      fill: #1967D2;\n",
              "      height: 32px;\n",
              "      padding: 0 0 0 0;\n",
              "      width: 32px;\n",
              "    }\n",
              "\n",
              "    .colab-df-convert:hover {\n",
              "      background-color: #E2EBFA;\n",
              "      box-shadow: 0px 1px 2px rgba(60, 64, 67, 0.3), 0px 1px 3px 1px rgba(60, 64, 67, 0.15);\n",
              "      fill: #174EA6;\n",
              "    }\n",
              "\n",
              "    .colab-df-buttons div {\n",
              "      margin-bottom: 4px;\n",
              "    }\n",
              "\n",
              "    [theme=dark] .colab-df-convert {\n",
              "      background-color: #3B4455;\n",
              "      fill: #D2E3FC;\n",
              "    }\n",
              "\n",
              "    [theme=dark] .colab-df-convert:hover {\n",
              "      background-color: #434B5C;\n",
              "      box-shadow: 0px 1px 3px 1px rgba(0, 0, 0, 0.15);\n",
              "      filter: drop-shadow(0px 1px 2px rgba(0, 0, 0, 0.3));\n",
              "      fill: #FFFFFF;\n",
              "    }\n",
              "  </style>\n",
              "\n",
              "    <script>\n",
              "      const buttonEl =\n",
              "        document.querySelector('#df-a5d785c1-b7cd-438c-8c53-b37dba1340ed button.colab-df-convert');\n",
              "      buttonEl.style.display =\n",
              "        google.colab.kernel.accessAllowed ? 'block' : 'none';\n",
              "\n",
              "      async function convertToInteractive(key) {\n",
              "        const element = document.querySelector('#df-a5d785c1-b7cd-438c-8c53-b37dba1340ed');\n",
              "        const dataTable =\n",
              "          await google.colab.kernel.invokeFunction('convertToInteractive',\n",
              "                                                    [key], {});\n",
              "        if (!dataTable) return;\n",
              "\n",
              "        const docLinkHtml = 'Like what you see? Visit the ' +\n",
              "          '<a target=\"_blank\" href=https://colab.research.google.com/notebooks/data_table.ipynb>data table notebook</a>'\n",
              "          + ' to learn more about interactive tables.';\n",
              "        element.innerHTML = '';\n",
              "        dataTable['output_type'] = 'display_data';\n",
              "        await google.colab.output.renderOutput(dataTable, element);\n",
              "        const docLink = document.createElement('div');\n",
              "        docLink.innerHTML = docLinkHtml;\n",
              "        element.appendChild(docLink);\n",
              "      }\n",
              "    </script>\n",
              "  </div>\n",
              "\n",
              "\n",
              "    <div id=\"df-1e3ef14d-e884-485b-ba7b-8c5a817e7ce2\">\n",
              "      <button class=\"colab-df-quickchart\" onclick=\"quickchart('df-1e3ef14d-e884-485b-ba7b-8c5a817e7ce2')\"\n",
              "                title=\"Suggest charts\"\n",
              "                style=\"display:none;\">\n",
              "\n",
              "<svg xmlns=\"http://www.w3.org/2000/svg\" height=\"24px\"viewBox=\"0 0 24 24\"\n",
              "     width=\"24px\">\n",
              "    <g>\n",
              "        <path d=\"M19 3H5c-1.1 0-2 .9-2 2v14c0 1.1.9 2 2 2h14c1.1 0 2-.9 2-2V5c0-1.1-.9-2-2-2zM9 17H7v-7h2v7zm4 0h-2V7h2v10zm4 0h-2v-4h2v4z\"/>\n",
              "    </g>\n",
              "</svg>\n",
              "      </button>\n",
              "\n",
              "<style>\n",
              "  .colab-df-quickchart {\n",
              "      --bg-color: #E8F0FE;\n",
              "      --fill-color: #1967D2;\n",
              "      --hover-bg-color: #E2EBFA;\n",
              "      --hover-fill-color: #174EA6;\n",
              "      --disabled-fill-color: #AAA;\n",
              "      --disabled-bg-color: #DDD;\n",
              "  }\n",
              "\n",
              "  [theme=dark] .colab-df-quickchart {\n",
              "      --bg-color: #3B4455;\n",
              "      --fill-color: #D2E3FC;\n",
              "      --hover-bg-color: #434B5C;\n",
              "      --hover-fill-color: #FFFFFF;\n",
              "      --disabled-bg-color: #3B4455;\n",
              "      --disabled-fill-color: #666;\n",
              "  }\n",
              "\n",
              "  .colab-df-quickchart {\n",
              "    background-color: var(--bg-color);\n",
              "    border: none;\n",
              "    border-radius: 50%;\n",
              "    cursor: pointer;\n",
              "    display: none;\n",
              "    fill: var(--fill-color);\n",
              "    height: 32px;\n",
              "    padding: 0;\n",
              "    width: 32px;\n",
              "  }\n",
              "\n",
              "  .colab-df-quickchart:hover {\n",
              "    background-color: var(--hover-bg-color);\n",
              "    box-shadow: 0 1px 2px rgba(60, 64, 67, 0.3), 0 1px 3px 1px rgba(60, 64, 67, 0.15);\n",
              "    fill: var(--button-hover-fill-color);\n",
              "  }\n",
              "\n",
              "  .colab-df-quickchart-complete:disabled,\n",
              "  .colab-df-quickchart-complete:disabled:hover {\n",
              "    background-color: var(--disabled-bg-color);\n",
              "    fill: var(--disabled-fill-color);\n",
              "    box-shadow: none;\n",
              "  }\n",
              "\n",
              "  .colab-df-spinner {\n",
              "    border: 2px solid var(--fill-color);\n",
              "    border-color: transparent;\n",
              "    border-bottom-color: var(--fill-color);\n",
              "    animation:\n",
              "      spin 1s steps(1) infinite;\n",
              "  }\n",
              "\n",
              "  @keyframes spin {\n",
              "    0% {\n",
              "      border-color: transparent;\n",
              "      border-bottom-color: var(--fill-color);\n",
              "      border-left-color: var(--fill-color);\n",
              "    }\n",
              "    20% {\n",
              "      border-color: transparent;\n",
              "      border-left-color: var(--fill-color);\n",
              "      border-top-color: var(--fill-color);\n",
              "    }\n",
              "    30% {\n",
              "      border-color: transparent;\n",
              "      border-left-color: var(--fill-color);\n",
              "      border-top-color: var(--fill-color);\n",
              "      border-right-color: var(--fill-color);\n",
              "    }\n",
              "    40% {\n",
              "      border-color: transparent;\n",
              "      border-right-color: var(--fill-color);\n",
              "      border-top-color: var(--fill-color);\n",
              "    }\n",
              "    60% {\n",
              "      border-color: transparent;\n",
              "      border-right-color: var(--fill-color);\n",
              "    }\n",
              "    80% {\n",
              "      border-color: transparent;\n",
              "      border-right-color: var(--fill-color);\n",
              "      border-bottom-color: var(--fill-color);\n",
              "    }\n",
              "    90% {\n",
              "      border-color: transparent;\n",
              "      border-bottom-color: var(--fill-color);\n",
              "    }\n",
              "  }\n",
              "</style>\n",
              "\n",
              "      <script>\n",
              "        async function quickchart(key) {\n",
              "          const quickchartButtonEl =\n",
              "            document.querySelector('#' + key + ' button');\n",
              "          quickchartButtonEl.disabled = true;  // To prevent multiple clicks.\n",
              "          quickchartButtonEl.classList.add('colab-df-spinner');\n",
              "          try {\n",
              "            const charts = await google.colab.kernel.invokeFunction(\n",
              "                'suggestCharts', [key], {});\n",
              "          } catch (error) {\n",
              "            console.error('Error during call to suggestCharts:', error);\n",
              "          }\n",
              "          quickchartButtonEl.classList.remove('colab-df-spinner');\n",
              "          quickchartButtonEl.classList.add('colab-df-quickchart-complete');\n",
              "        }\n",
              "        (() => {\n",
              "          let quickchartButtonEl =\n",
              "            document.querySelector('#df-1e3ef14d-e884-485b-ba7b-8c5a817e7ce2 button');\n",
              "          quickchartButtonEl.style.display =\n",
              "            google.colab.kernel.accessAllowed ? 'block' : 'none';\n",
              "        })();\n",
              "      </script>\n",
              "    </div>\n",
              "\n",
              "    </div>\n",
              "  </div>\n"
            ],
            "application/vnd.google.colaboratory.intrinsic+json": {
              "type": "dataframe",
              "summary": "{\n  \"name\": \"df[['bp_before', 'bp_after']]\",\n  \"rows\": 8,\n  \"fields\": [\n    {\n      \"column\": \"bp_before\",\n      \"properties\": {\n        \"dtype\": \"number\",\n        \"std\": 53.2341838381238,\n        \"min\": 11.389845101166717,\n        \"max\": 185.0,\n        \"num_unique_values\": 8,\n        \"samples\": [\n          156.45,\n          154.5,\n          120.0\n        ],\n        \"semantic_type\": \"\",\n        \"description\": \"\"\n      }\n    },\n    {\n      \"column\": \"bp_after\",\n      \"properties\": {\n        \"dtype\": \"number\",\n        \"std\": 51.36988827103174,\n        \"min\": 14.177622226198421,\n        \"max\": 185.0,\n        \"num_unique_values\": 8,\n        \"samples\": [\n          151.35833333333332,\n          149.5,\n          120.0\n        ],\n        \"semantic_type\": \"\",\n        \"description\": \"\"\n      }\n    }\n  ]\n}"
            }
          },
          "metadata": {},
          "execution_count": 3
        }
      ],
      "source": [
        "# Estatísticas descritivas para as colunas de interesse\n",
        "df[['bp_before', 'bp_after']].describe()"
      ]
    },
    {
      "cell_type": "markdown",
      "id": "ad1fa090",
      "metadata": {
        "id": "ad1fa090"
      },
      "source": [
        "## 4. Visualização de Outliers\n",
        "\n",
        "Utilize boxplots para identificar possíveis outliers nas medidas de pressão arterial antes e depois da intervenção."
      ]
    },
    {
      "cell_type": "code",
      "execution_count": 4,
      "id": "5403ae4f",
      "metadata": {
        "id": "5403ae4f",
        "outputId": "447db4c3-ef45-4fc6-e330-238c9a456e2a",
        "colab": {
          "base_uri": "https://localhost:8080/",
          "height": 452
        }
      },
      "outputs": [
        {
          "output_type": "display_data",
          "data": {
            "text/plain": [
              "<Figure size 640x480 with 1 Axes>"
            ],
            "image/png": "[encoded data removed]"
          },
          "metadata": {}
        }
      ],
      "source": [
        "# Boxplot para identificar outliers\n",
        "df[['bp_before', 'bp_after']].plot(kind='box', title='Boxplot da Pressão Arterial Antes e Depois')\n",
        "plt.ylabel('Pressão Arterial')\n",
        "plt.show()"
      ]
    },
    {
      "cell_type": "markdown",
      "id": "fddd763f",
      "metadata": {
        "id": "fddd763f"
      },
      "source": [
        "## 5. Cálculo e Análise da Diferença das Medidas\n",
        "\n",
        "Crie uma nova coluna com a diferença entre as pressões antes e depois. Em seguida, visualize a distribuição dessa diferença utilizando um histograma."
      ]
    },
    {
      "cell_type": "code",
      "execution_count": 5,
      "id": "f6f4a79f",
      "metadata": {
        "id": "f6f4a79f",
        "outputId": "dd84a943-45c5-44b4-a753-5d09129a7995",
        "colab": {
          "base_uri": "https://localhost:8080/",
          "height": 472
        }
      },
      "outputs": [
        {
          "output_type": "display_data",
          "data": {
            "text/plain": [
              "<Figure size 640x480 with 1 Axes>"
            ],
            "image/png": "[encoded data removed]"
          },
          "metadata": {}
        }
      ],
      "source": [
        "# Calcular a diferença entre as pressões antes e depois\n",
        "df['bp_difference'] = df['bp_before'] - df['bp_after']\n",
        "\n",
        "# Visualizar a distribuição da diferença\n",
        "df['bp_difference'].plot(kind='hist', bins=10, title='Histograma da Diferença de Pressão Arterial')\n",
        "plt.xlabel('Diferença (Antes - Depois)')\n",
        "plt.show()"
      ]
    },
    {
      "cell_type": "markdown",
      "id": "c388c0ef",
      "metadata": {
        "id": "c388c0ef"
      },
      "source": [
        "## 6. Verificação da Normalidade da Diferença\n",
        "\n",
        "Antes de aplicar o teste t pareado, é importante verificar se a diferença segue uma distribuição normal. Vamos utilizar o gráfico Q-Q e o teste de Shapiro-Wilk para essa avaliação."
      ]
    },
    {
      "cell_type": "code",
      "execution_count": 6,
      "id": "35b62da2",
      "metadata": {
        "id": "35b62da2",
        "outputId": "f38fbcca-cd34-4ee0-f4ee-24aa1a72e109",
        "colab": {
          "base_uri": "https://localhost:8080/",
          "height": 472
        }
      },
      "outputs": [
        {
          "output_type": "display_data",
          "data": {
            "text/plain": [
              "<Figure size 640x480 with 1 Axes>"
            ],
            "image/png": "[encoded data removed]"
          },
          "metadata": {}
        }
      ],
      "source": [
        "# Gráfico Q-Q para avaliar a normalidade\n",
        "stats.probplot(df['bp_difference'], plot=plt)\n",
        "plt.title('Q-Q Plot da Diferença de Pressão Arterial')\n",
        "plt.show()"
      ]
    },
    {
      "cell_type": "code",
      "execution_count": 7,
      "id": "921d410e",
      "metadata": {
        "id": "921d410e",
        "outputId": "19cb369c-0460-47ee-89ac-22d92377b1c2",
        "colab": {
          "base_uri": "https://localhost:8080/"
        }
      },
      "outputs": [
        {
          "output_type": "execute_result",
          "data": {
            "text/plain": [
              "ShapiroResult(statistic=np.float64(0.9926847193605787), pvalue=np.float64(0.7842279908227653))"
            ]
          },
          "metadata": {},
          "execution_count": 7
        }
      ],
      "source": [
        "# Teste de Shapiro-Wilk para normalidade\n",
        "stats.shapiro(df['bp_difference'])"
      ]
    },
    {
      "cell_type": "markdown",
      "id": "e7bc2890",
      "metadata": {
        "id": "e7bc2890"
      },
      "source": [
        "### Interpretação\n",
        "\n",
        "O p-value (0.78) é muito maior que o valor de referência comum (0.05). Portanto, **não rejeitamos a hipótese nula** de que os dados seguem uma distribuição normal.\n",
        "Ou seja, **a diferença das pressões arteriais antes e depois do tratamento pode ser considerada normalmente distribuída**. Isso permite o uso de testes paramétricos, como o t-test pareado."
      ]
    },
    {
      "cell_type": "markdown",
      "id": "c794aaa7",
      "metadata": {
        "id": "c794aaa7"
      },
      "source": [
        "## 7. Execução do Teste t Pareado\n",
        "\n",
        "Agora, vamos realizar o teste t pareado para comparar as médias das pressões arteriais antes e depois da intervenção (2 testes pareados, i.e., \"**Pareados: mesmos indivíduos em diferentes situações**\")"
      ]
    },
    {
      "cell_type": "code",
      "execution_count": 8,
      "id": "68c059ad",
      "metadata": {
        "id": "68c059ad",
        "outputId": "042eef74-5722-47fc-eb87-e1520d60572a",
        "colab": {
          "base_uri": "https://localhost:8080/"
        }
      },
      "outputs": [
        {
          "output_type": "execute_result",
          "data": {
            "text/plain": [
              "TtestResult(statistic=np.float64(3.3371870510833657), pvalue=np.float64(0.0011297914644840823), df=np.int64(119))"
            ]
          },
          "metadata": {},
          "execution_count": 8
        }
      ],
      "source": [
        "# Teste t pareado\n",
        "stats.ttest_rel(df['bp_before'], df['bp_after'])"
      ]
    },
    {
      "cell_type": "markdown",
      "id": "1999331a",
      "metadata": {
        "id": "1999331a"
      },
      "source": [
        "## 8. Interpretação dos Resultados\n",
        "\n",
        "O teste t pareado compara as médias das duas condições (antes e depois) para o **mesmo grupo de indivíduos**.\n",
        "\n",
        "- **Hipótese nula (H₀):** Não há diferença entre as médias das pressões arteriais antes e depois da intervenção.\n",
        "- **Hipótese alternativa (H₁):** Existe diferença entre as médias das pressões arteriais antes e depois.\n",
        "\n",
        "O valor-p obtido indica a probabilidade de observarmos uma diferença igual ou mais extrema que a encontrada, assumindo que a hipótese nula é verdadeira.\n",
        "\n",
        "- Se o valor-p for menor que o nível de significância (por exemplo, 0,05), rejeitamos a hipótese nula e concluímos que a intervenção teve efeito significativo.\n",
        "- Se o valor-p for maior que 0,05, não rejeitamos a hipótese nula.\n",
        "\n",
        "No nosso caso:"
      ]
    },
    {
      "cell_type": "code",
      "execution_count": 9,
      "id": "90a9bc88",
      "metadata": {
        "id": "90a9bc88",
        "outputId": "a9db887c-b0a9-4d92-b5a1-38a2e7855ed3",
        "colab": {
          "base_uri": "https://localhost:8080/"
        }
      },
      "outputs": [
        {
          "output_type": "stream",
          "name": "stdout",
          "text": [
            "Rejeitamos a hipótese nula: há diferença significativa entre as pressões arteriais antes e depois.\n"
          ]
        }
      ],
      "source": [
        "p_value = stats.ttest_rel(df['bp_before'], df['bp_after']).pvalue\n",
        "\n",
        "# Interpretação do p-valor\n",
        "if p_value < 0.05:\n",
        "    print(\"Rejeitamos a hipótese nula: há diferença significativa entre as pressões arteriais antes e depois.\")\n",
        "else:\n",
        "    print(\"Não rejeitamos a hipótese nula: não há diferença significativa entre as pressões arteriais antes e depois.\")"
      ]
    },
    {
      "cell_type": "markdown",
      "id": "9e5cf5d7",
      "metadata": {
        "id": "9e5cf5d7"
      },
      "source": [
        "# Comparando preços de imóveis:\n",
        "\n",
        "Verifique se existe diferença para imóveis à venda entre em termos de preço, preço m2 e área entre apartamentos e casas usando testes estatísticos e visualize as distribuições com boxplots."
      ]
    },
    {
      "cell_type": "code",
      "execution_count": 10,
      "id": "e41f3b05",
      "metadata": {
        "id": "e41f3b05",
        "outputId": "1ea3f030-4825-4c6c-8fdd-1f290926bdfa",
        "colab": {
          "base_uri": "https://localhost:8080/",
          "height": 261
        }
      },
      "outputs": [
        {
          "output_type": "execute_result",
          "data": {
            "text/plain": [
              "    price  latitude  longitude  bedrooms  area  pkspaces  bathrooms  ensuites  \\\n",
              "1  330000 -8.029595 -34.900372       3.0  86.0       1.0        3.0       1.0   \n",
              "2  255000 -8.037247 -34.890986       2.0  82.0       1.0        2.0       NaN   \n",
              "3  380000 -8.047562 -34.876964       3.0  95.0       2.0        3.0       1.0   \n",
              "4  300000 -8.053580 -34.908733       3.0  97.0       1.0        3.0       1.0   \n",
              "5  320000 -8.026516 -34.917791       2.0  50.0       1.0        2.0       1.0   \n",
              "\n",
              "         suburb district    city       state   type     price_m2  \n",
              "1   Tamarineira   Recife  Recife  Pernambuco  apart  3837.209302  \n",
              "2  Encruzilhada   Recife  Recife  Pernambuco  apart  3109.756098  \n",
              "3   Santo Amaro   Recife  Recife  Pernambuco  apart  4000.000000  \n",
              "4      Madalena   Recife  Recife  Pernambuco  apart  3092.783505  \n",
              "5  Casa Amarela   Recife  Recife  Pernambuco  apart  6400.000000  "
            ],
            "text/html": [
              "\n",
              "  <div id=\"df-6cbadbed-8310-4436-914e-a8c254b5ef5b\" class=\"colab-df-container\">\n",
              "    <div>\n",
              "<style scoped>\n",
              "    .dataframe tbody tr th:only-of-type {\n",
              "        vertical-align: middle;\n",
              "    }\n",
              "\n",
              "    .dataframe tbody tr th {\n",
              "        vertical-align: top;\n",
              "    }\n",
              "\n",
              "    .dataframe thead th {\n",
              "        text-align: right;\n",
              "    }\n",
              "</style>\n",
              "<table border=\"1\" class=\"dataframe\">\n",
              "  <thead>\n",
              "    <tr style=\"text-align: right;\">\n",
              "      <th></th>\n",
              "      <th>price</th>\n",
              "      <th>latitude</th>\n",
              "      <th>longitude</th>\n",
              "      <th>bedrooms</th>\n",
              "      <th>area</th>\n",
              "      <th>pkspaces</th>\n",
              "      <th>bathrooms</th>\n",
              "      <th>ensuites</th>\n",
              "      <th>suburb</th>\n",
              "      <th>district</th>\n",
              "      <th>city</th>\n",
              "      <th>state</th>\n",
              "      <th>type</th>\n",
              "      <th>price_m2</th>\n",
              "    </tr>\n",
              "  </thead>\n",
              "  <tbody>\n",
              "    <tr>\n",
              "      <th>1</th>\n",
              "      <td>330000</td>\n",
              "      <td>-8.029595</td>\n",
              "      <td>-34.900372</td>\n",
              "      <td>3.0</td>\n",
              "      <td>86.0</td>\n",
              "      <td>1.0</td>\n",
              "      <td>3.0</td>\n",
              "      <td>1.0</td>\n",
              "      <td>Tamarineira</td>\n",
              "      <td>Recife</td>\n",
              "      <td>Recife</td>\n",
              "      <td>Pernambuco</td>\n",
              "      <td>apart</td>\n",
              "      <td>3837.209302</td>\n",
              "    </tr>\n",
              "    <tr>\n",
              "      <th>2</th>\n",
              "      <td>255000</td>\n",
              "      <td>-8.037247</td>\n",
              "      <td>-34.890986</td>\n",
              "      <td>2.0</td>\n",
              "      <td>82.0</td>\n",
              "      <td>1.0</td>\n",
              "      <td>2.0</td>\n",
              "      <td>NaN</td>\n",
              "      <td>Encruzilhada</td>\n",
              "      <td>Recife</td>\n",
              "      <td>Recife</td>\n",
              "      <td>Pernambuco</td>\n",
              "      <td>apart</td>\n",
              "      <td>3109.756098</td>\n",
              "    </tr>\n",
              "    <tr>\n",
              "      <th>3</th>\n",
              "      <td>380000</td>\n",
              "      <td>-8.047562</td>\n",
              "      <td>-34.876964</td>\n",
              "      <td>3.0</td>\n",
              "      <td>95.0</td>\n",
              "      <td>2.0</td>\n",
              "      <td>3.0</td>\n",
              "      <td>1.0</td>\n",
              "      <td>Santo Amaro</td>\n",
              "      <td>Recife</td>\n",
              "      <td>Recife</td>\n",
              "      <td>Pernambuco</td>\n",
              "      <td>apart</td>\n",
              "      <td>4000.000000</td>\n",
              "    </tr>\n",
              "    <tr>\n",
              "      <th>4</th>\n",
              "      <td>300000</td>\n",
              "      <td>-8.053580</td>\n",
              "      <td>-34.908733</td>\n",
              "      <td>3.0</td>\n",
              "      <td>97.0</td>\n",
              "      <td>1.0</td>\n",
              "      <td>3.0</td>\n",
              "      <td>1.0</td>\n",
              "      <td>Madalena</td>\n",
              "      <td>Recife</td>\n",
              "      <td>Recife</td>\n",
              "      <td>Pernambuco</td>\n",
              "      <td>apart</td>\n",
              "      <td>3092.783505</td>\n",
              "    </tr>\n",
              "    <tr>\n",
              "      <th>5</th>\n",
              "      <td>320000</td>\n",
              "      <td>-8.026516</td>\n",
              "      <td>-34.917791</td>\n",
              "      <td>2.0</td>\n",
              "      <td>50.0</td>\n",
              "      <td>1.0</td>\n",
              "      <td>2.0</td>\n",
              "      <td>1.0</td>\n",
              "      <td>Casa Amarela</td>\n",
              "      <td>Recife</td>\n",
              "      <td>Recife</td>\n",
              "      <td>Pernambuco</td>\n",
              "      <td>apart</td>\n",
              "      <td>6400.000000</td>\n",
              "    </tr>\n",
              "  </tbody>\n",
              "</table>\n",
              "</div>\n",
              "    <div class=\"colab-df-buttons\">\n",
              "\n",
              "  <div class=\"colab-df-container\">\n",
              "    <button class=\"colab-df-convert\" onclick=\"convertToInteractive('df-6cbadbed-8310-4436-914e-a8c254b5ef5b')\"\n",
              "            title=\"Convert this dataframe to an interactive table.\"\n",
              "            style=\"display:none;\">\n",
              "\n",
              "  <svg xmlns=\"http://www.w3.org/2000/svg\" height=\"24px\" viewBox=\"0 -960 960 960\">\n",
              "    <path d=\"M120-120v-720h720v720H120Zm60-500h600v-160H180v160Zm220 220h160v-160H400v160Zm0 220h160v-160H400v160ZM180-400h160v-160H180v160Zm440 0h160v-160H620v160ZM180-180h160v-160H180v160Zm440 0h160v-160H620v160Z\"/>\n",
              "  </svg>\n",
              "    </button>\n",
              "\n",
              "  <style>\n",
              "    .colab-df-container {\n",
              "      display:flex;\n",
              "      gap: 12px;\n",
              "    }\n",
              "\n",
              "    .colab-df-convert {\n",
              "      background-color: #E8F0FE;\n",
              "      border: none;\n",
              "      border-radius: 50%;\n",
              "      cursor: pointer;\n",
              "      display: none;\n",
              "      fill: #1967D2;\n",
              "      height: 32px;\n",
              "      padding: 0 0 0 0;\n",
              "      width: 32px;\n",
              "    }\n",
              "\n",
              "    .colab-df-convert:hover {\n",
              "      background-color: #E2EBFA;\n",
              "      box-shadow: 0px 1px 2px rgba(60, 64, 67, 0.3), 0px 1px 3px 1px rgba(60, 64, 67, 0.15);\n",
              "      fill: #174EA6;\n",
              "    }\n",
              "\n",
              "    .colab-df-buttons div {\n",
              "      margin-bottom: 4px;\n",
              "    }\n",
              "\n",
              "    [theme=dark] .colab-df-convert {\n",
              "      background-color: #3B4455;\n",
              "      fill: #D2E3FC;\n",
              "    }\n",
              "\n",
              "    [theme=dark] .colab-df-convert:hover {\n",
              "      background-color: #434B5C;\n",
              "      box-shadow: 0px 1px 3px 1px rgba(0, 0, 0, 0.15);\n",
              "      filter: drop-shadow(0px 1px 2px rgba(0, 0, 0, 0.3));\n",
              "      fill: #FFFFFF;\n",
              "    }\n",
              "  </style>\n",
              "\n",
              "    <script>\n",
              "      const buttonEl =\n",
              "        document.querySelector('#df-6cbadbed-8310-4436-914e-a8c254b5ef5b button.colab-df-convert');\n",
              "      buttonEl.style.display =\n",
              "        google.colab.kernel.accessAllowed ? 'block' : 'none';\n",
              "\n",
              "      async function convertToInteractive(key) {\n",
              "        const element = document.querySelector('#df-6cbadbed-8310-4436-914e-a8c254b5ef5b');\n",
              "        const dataTable =\n",
              "          await google.colab.kernel.invokeFunction('convertToInteractive',\n",
              "                                                    [key], {});\n",
              "        if (!dataTable) return;\n",
              "\n",
              "        const docLinkHtml = 'Like what you see? Visit the ' +\n",
              "          '<a target=\"_blank\" href=https://colab.research.google.com/notebooks/data_table.ipynb>data table notebook</a>'\n",
              "          + ' to learn more about interactive tables.';\n",
              "        element.innerHTML = '';\n",
              "        dataTable['output_type'] = 'display_data';\n",
              "        await google.colab.output.renderOutput(dataTable, element);\n",
              "        const docLink = document.createElement('div');\n",
              "        docLink.innerHTML = docLinkHtml;\n",
              "        element.appendChild(docLink);\n",
              "      }\n",
              "    </script>\n",
              "  </div>\n",
              "\n",
              "\n",
              "    <div id=\"df-ad2c0a86-e2cf-4904-850e-4c903e4e7500\">\n",
              "      <button class=\"colab-df-quickchart\" onclick=\"quickchart('df-ad2c0a86-e2cf-4904-850e-4c903e4e7500')\"\n",
              "                title=\"Suggest charts\"\n",
              "                style=\"display:none;\">\n",
              "\n",
              "<svg xmlns=\"http://www.w3.org/2000/svg\" height=\"24px\"viewBox=\"0 0 24 24\"\n",
              "     width=\"24px\">\n",
              "    <g>\n",
              "        <path d=\"M19 3H5c-1.1 0-2 .9-2 2v14c0 1.1.9 2 2 2h14c1.1 0 2-.9 2-2V5c0-1.1-.9-2-2-2zM9 17H7v-7h2v7zm4 0h-2V7h2v10zm4 0h-2v-4h2v4z\"/>\n",
              "    </g>\n",
              "</svg>\n",
              "      </button>\n",
              "\n",
              "<style>\n",
              "  .colab-df-quickchart {\n",
              "      --bg-color: #E8F0FE;\n",
              "      --fill-color: #1967D2;\n",
              "      --hover-bg-color: #E2EBFA;\n",
              "      --hover-fill-color: #174EA6;\n",
              "      --disabled-fill-color: #AAA;\n",
              "      --disabled-bg-color: #DDD;\n",
              "  }\n",
              "\n",
              "  [theme=dark] .colab-df-quickchart {\n",
              "      --bg-color: #3B4455;\n",
              "      --fill-color: #D2E3FC;\n",
              "      --hover-bg-color: #434B5C;\n",
              "      --hover-fill-color: #FFFFFF;\n",
              "      --disabled-bg-color: #3B4455;\n",
              "      --disabled-fill-color: #666;\n",
              "  }\n",
              "\n",
              "  .colab-df-quickchart {\n",
              "    background-color: var(--bg-color);\n",
              "    border: none;\n",
              "    border-radius: 50%;\n",
              "    cursor: pointer;\n",
              "    display: none;\n",
              "    fill: var(--fill-color);\n",
              "    height: 32px;\n",
              "    padding: 0;\n",
              "    width: 32px;\n",
              "  }\n",
              "\n",
              "  .colab-df-quickchart:hover {\n",
              "    background-color: var(--hover-bg-color);\n",
              "    box-shadow: 0 1px 2px rgba(60, 64, 67, 0.3), 0 1px 3px 1px rgba(60, 64, 67, 0.15);\n",
              "    fill: var(--button-hover-fill-color);\n",
              "  }\n",
              "\n",
              "  .colab-df-quickchart-complete:disabled,\n",
              "  .colab-df-quickchart-complete:disabled:hover {\n",
              "    background-color: var(--disabled-bg-color);\n",
              "    fill: var(--disabled-fill-color);\n",
              "    box-shadow: none;\n",
              "  }\n",
              "\n",
              "  .colab-df-spinner {\n",
              "    border: 2px solid var(--fill-color);\n",
              "    border-color: transparent;\n",
              "    border-bottom-color: var(--fill-color);\n",
              "    animation:\n",
              "      spin 1s steps(1) infinite;\n",
              "  }\n",
              "\n",
              "  @keyframes spin {\n",
              "    0% {\n",
              "      border-color: transparent;\n",
              "      border-bottom-color: var(--fill-color);\n",
              "      border-left-color: var(--fill-color);\n",
              "    }\n",
              "    20% {\n",
              "      border-color: transparent;\n",
              "      border-left-color: var(--fill-color);\n",
              "      border-top-color: var(--fill-color);\n",
              "    }\n",
              "    30% {\n",
              "      border-color: transparent;\n",
              "      border-left-color: var(--fill-color);\n",
              "      border-top-color: var(--fill-color);\n",
              "      border-right-color: var(--fill-color);\n",
              "    }\n",
              "    40% {\n",
              "      border-color: transparent;\n",
              "      border-right-color: var(--fill-color);\n",
              "      border-top-color: var(--fill-color);\n",
              "    }\n",
              "    60% {\n",
              "      border-color: transparent;\n",
              "      border-right-color: var(--fill-color);\n",
              "    }\n",
              "    80% {\n",
              "      border-color: transparent;\n",
              "      border-right-color: var(--fill-color);\n",
              "      border-bottom-color: var(--fill-color);\n",
              "    }\n",
              "    90% {\n",
              "      border-color: transparent;\n",
              "      border-bottom-color: var(--fill-color);\n",
              "    }\n",
              "  }\n",
              "</style>\n",
              "\n",
              "      <script>\n",
              "        async function quickchart(key) {\n",
              "          const quickchartButtonEl =\n",
              "            document.querySelector('#' + key + ' button');\n",
              "          quickchartButtonEl.disabled = true;  // To prevent multiple clicks.\n",
              "          quickchartButtonEl.classList.add('colab-df-spinner');\n",
              "          try {\n",
              "            const charts = await google.colab.kernel.invokeFunction(\n",
              "                'suggestCharts', [key], {});\n",
              "          } catch (error) {\n",
              "            console.error('Error during call to suggestCharts:', error);\n",
              "          }\n",
              "          quickchartButtonEl.classList.remove('colab-df-spinner');\n",
              "          quickchartButtonEl.classList.add('colab-df-quickchart-complete');\n",
              "        }\n",
              "        (() => {\n",
              "          let quickchartButtonEl =\n",
              "            document.querySelector('#df-ad2c0a86-e2cf-4904-850e-4c903e4e7500 button');\n",
              "          quickchartButtonEl.style.display =\n",
              "            google.colab.kernel.accessAllowed ? 'block' : 'none';\n",
              "        })();\n",
              "      </script>\n",
              "    </div>\n",
              "\n",
              "    </div>\n",
              "  </div>\n"
            ],
            "application/vnd.google.colaboratory.intrinsic+json": {
              "type": "dataframe",
              "variable_name": "houses",
              "summary": "{\n  \"name\": \"houses\",\n  \"rows\": 1220,\n  \"fields\": [\n    {\n      \"column\": \"price\",\n      \"properties\": {\n        \"dtype\": \"number\",\n        \"std\": 608469,\n        \"min\": 45000,\n        \"max\": 7500000,\n        \"num_unique_values\": 238,\n        \"samples\": [\n          830000,\n          730000,\n          465000\n        ],\n        \"semantic_type\": \"\",\n        \"description\": \"\"\n      }\n    },\n    {\n      \"column\": \"latitude\",\n      \"properties\": {\n        \"dtype\": \"number\",\n        \"std\": 0.03160654012783023,\n        \"min\": -8.1471593,\n        \"max\": -7.9693223,\n        \"num_unique_values\": 444,\n        \"samples\": [\n          -8.030299,\n          -8.0308269,\n          -8.0498553\n        ],\n        \"semantic_type\": \"\",\n        \"description\": \"\"\n      }\n    },\n    {\n      \"column\": \"longitude\",\n      \"properties\": {\n        \"dtype\": \"number\",\n        \"std\": 0.015309306473269795,\n        \"min\": -34.9710882,\n        \"max\": -34.874427,\n        \"num_unique_values\": 442,\n        \"samples\": [\n          -34.905502,\n          -34.897133,\n          -34.8966256\n        ],\n        \"semantic_type\": \"\",\n        \"description\": \"\"\n      }\n    },\n    {\n      \"column\": \"bedrooms\",\n      \"properties\": {\n        \"dtype\": \"number\",\n        \"std\": 1.0151222144065575,\n        \"min\": 1.0,\n        \"max\": 15.0,\n        \"num_unique_values\": 8,\n        \"samples\": [\n          2.0,\n          6.0,\n          3.0\n        ],\n        \"semantic_type\": \"\",\n        \"description\": \"\"\n      }\n    },\n    {\n      \"column\": \"area\",\n      \"properties\": {\n        \"dtype\": \"number\",\n        \"std\": 102.07874184672141,\n        \"min\": 25.0,\n        \"max\": 1682.0,\n        \"num_unique_values\": 246,\n        \"samples\": [\n          126.0,\n          38.0,\n          83.18\n        ],\n        \"semantic_type\": \"\",\n        \"description\": \"\"\n      }\n    },\n    {\n      \"column\": \"pkspaces\",\n      \"properties\": {\n        \"dtype\": \"number\",\n        \"std\": 1.0137223929579633,\n        \"min\": 0.0,\n        \"max\": 15.0,\n        \"num_unique_values\": 8,\n        \"samples\": [\n          2.0,\n          15.0,\n          1.0\n        ],\n        \"semantic_type\": \"\",\n        \"description\": \"\"\n      }\n    },\n    {\n      \"column\": \"bathrooms\",\n      \"properties\": {\n        \"dtype\": \"number\",\n        \"std\": 1.2128139626028924,\n        \"min\": 1.0,\n        \"max\": 8.0,\n        \"num_unique_values\": 8,\n        \"samples\": [\n          2.0,\n          6.0,\n          3.0\n        ],\n        \"semantic_type\": \"\",\n        \"description\": \"\"\n      }\n    },\n    {\n      \"column\": \"ensuites\",\n      \"properties\": {\n        \"dtype\": \"number\",\n        \"std\": 0.9268482434359601,\n        \"min\": 1.0,\n        \"max\": 6.0,\n        \"num_unique_values\": 6,\n        \"samples\": [\n          1.0,\n          2.0,\n          6.0\n        ],\n        \"semantic_type\": \"\",\n        \"description\": \"\"\n      }\n    },\n    {\n      \"column\": \"suburb\",\n      \"properties\": {\n        \"dtype\": \"category\",\n        \"num_unique_values\": 50,\n        \"samples\": [\n          \"Espinheiro\",\n          \"Tejipi\\u00cc_\",\n          \"Derby\"\n        ],\n        \"semantic_type\": \"\",\n        \"description\": \"\"\n      }\n    },\n    {\n      \"column\": \"district\",\n      \"properties\": {\n        \"dtype\": \"category\",\n        \"num_unique_values\": 1,\n        \"samples\": [\n          \"Recife\"\n        ],\n        \"semantic_type\": \"\",\n        \"description\": \"\"\n      }\n    },\n    {\n      \"column\": \"city\",\n      \"properties\": {\n        \"dtype\": \"category\",\n        \"num_unique_values\": 1,\n        \"samples\": [\n          \"Recife\"\n        ],\n        \"semantic_type\": \"\",\n        \"description\": \"\"\n      }\n    },\n    {\n      \"column\": \"state\",\n      \"properties\": {\n        \"dtype\": \"category\",\n        \"num_unique_values\": 1,\n        \"samples\": [\n          \"Pernambuco\"\n        ],\n        \"semantic_type\": \"\",\n        \"description\": \"\"\n      }\n    },\n    {\n      \"column\": \"type\",\n      \"properties\": {\n        \"dtype\": \"category\",\n        \"num_unique_values\": 2,\n        \"samples\": [\n          \"house\"\n        ],\n        \"semantic_type\": \"\",\n        \"description\": \"\"\n      }\n    },\n    {\n      \"column\": \"price_m2\",\n      \"properties\": {\n        \"dtype\": \"number\",\n        \"std\": 3602.510737205195,\n        \"min\": 497.5,\n        \"max\": 56039.21568627451,\n        \"num_unique_values\": 685,\n        \"samples\": [\n          3515.625\n        ],\n        \"semantic_type\": \"\",\n        \"description\": \"\"\n      }\n    }\n  ]\n}"
            }
          },
          "metadata": {},
          "execution_count": 10
        }
      ],
      "source": [
        "houses=pd.read_csv(\"https://raw.githubusercontent.com/ProfLuciano/cd/gh-pages/data/recife.csv\",encoding = \"ISO-8859-1\")\n",
        "\n",
        "# filtrar os dados para incluir apenas os preços acima de 30.000 (venda)\n",
        "houses = houses[houses['price'] > 30000]\n",
        "\n",
        "houses['price_m2'] = houses['price']/houses['area']\n",
        "houses.head()"
      ]
    },
    {
      "cell_type": "code",
      "execution_count": 11,
      "id": "da9b77fa",
      "metadata": {
        "id": "da9b77fa",
        "outputId": "6955be1a-daff-4f5a-c0a8-1bc79713aee9",
        "colab": {
          "base_uri": "https://localhost:8080/",
          "height": 178
        }
      },
      "outputs": [
        {
          "output_type": "execute_result",
          "data": {
            "text/plain": [
              "type\n",
              "apart    1148\n",
              "house      72\n",
              "Name: count, dtype: int64"
            ],
            "text/html": [
              "<div>\n",
              "<style scoped>\n",
              "    .dataframe tbody tr th:only-of-type {\n",
              "        vertical-align: middle;\n",
              "    }\n",
              "\n",
              "    .dataframe tbody tr th {\n",
              "        vertical-align: top;\n",
              "    }\n",
              "\n",
              "    .dataframe thead th {\n",
              "        text-align: right;\n",
              "    }\n",
              "</style>\n",
              "<table border=\"1\" class=\"dataframe\">\n",
              "  <thead>\n",
              "    <tr style=\"text-align: right;\">\n",
              "      <th></th>\n",
              "      <th>count</th>\n",
              "    </tr>\n",
              "    <tr>\n",
              "      <th>type</th>\n",
              "      <th></th>\n",
              "    </tr>\n",
              "  </thead>\n",
              "  <tbody>\n",
              "    <tr>\n",
              "      <th>apart</th>\n",
              "      <td>1148</td>\n",
              "    </tr>\n",
              "    <tr>\n",
              "      <th>house</th>\n",
              "      <td>72</td>\n",
              "    </tr>\n",
              "  </tbody>\n",
              "</table>\n",
              "</div><br><label><b>dtype:</b> int64</label>"
            ]
          },
          "metadata": {},
          "execution_count": 11
        }
      ],
      "source": [
        "houses['type'].value_counts()"
      ]
    },
    {
      "cell_type": "markdown",
      "id": "6964248a",
      "metadata": {
        "id": "6964248a"
      },
      "source": [
        "## Box plots"
      ]
    },
    {
      "cell_type": "code",
      "execution_count": 12,
      "id": "aadb4baa",
      "metadata": {
        "id": "aadb4baa",
        "outputId": "1b1f45f9-bc11-4937-ae0c-81742257448a",
        "colab": {
          "base_uri": "https://localhost:8080/",
          "height": 336
        }
      },
      "outputs": [
        {
          "output_type": "display_data",
          "data": {
            "text/plain": [
              "<Figure size 1000x500 with 2 Axes>"
            ],
            "image/png": "[encoded data removed]"
          },
          "metadata": {}
        }
      ],
      "source": [
        "import seaborn as sns\n",
        "\n",
        "plt.figure(figsize=(10, 5))\n",
        "plt.subplot(1, 2, 1)\n",
        "sns.boxplot(data=houses, x='type', y='price')\n",
        "plt.title('Boxplot do Preço por Tipo de Imóvel')\n",
        "plt.ylabel('Preço')\n",
        "plt.xlabel('Tipo de Imóvel')\n",
        "\n",
        "plt.subplot(1, 2, 2)\n",
        "sns.boxplot(data=houses, x='type', y='price_m2')\n",
        "plt.title('Boxplot do Preço por m² por Tipo de Imóvel')\n",
        "plt.ylabel('Preço por m²')\n",
        "plt.xlabel('Tipo de Imóvel')\n",
        "plt.tight_layout()\n",
        "\n",
        "plt.show()"
      ]
    },
    {
      "cell_type": "markdown",
      "id": "4f2a8c6b",
      "metadata": {
        "id": "4f2a8c6b"
      },
      "source": [
        "## Identificando o tipo de teste a ser aplicado\n",
        "\n",
        "![Tabela de tipos de testes de hipótese](https://raw.githubusercontent.com/ufrpe-ensino/ia-aulas/refs/heads/master/assets/images/hypothesis-tests-table.png)"
      ]
    },
    {
      "cell_type": "markdown",
      "id": "fa7b9512",
      "metadata": {
        "id": "fa7b9512"
      },
      "source": [
        "### Verificando normalidade dos dados\n",
        "\n",
        "O teste de Shapiro-Wilk é utilizado para verificar se uma amostra segue uma distribuição normal. Ele retorna um valor de estatística e um valor-p (p-value). Se o valor-p for maior que 0,05, não rejeitamos a hipótese nula de normalidade, ou seja, os dados podem ser considerados normalmente distribuídos. Se o valor-p for menor que 0,05, rejeitamos a hipótese nula, indicando que os dados não seguem uma distribuição normal."
      ]
    },
    {
      "cell_type": "code",
      "execution_count": 13,
      "id": "c3784cff",
      "metadata": {
        "id": "c3784cff",
        "outputId": "069ed80c-5de0-41c5-c880-46a60d739284",
        "colab": {
          "base_uri": "https://localhost:8080/",
          "height": 421
        }
      },
      "outputs": [
        {
          "output_type": "stream",
          "name": "stdout",
          "text": [
            "Normalidade (Shapiro) - Preço Apto: ShapiroResult(statistic=np.float64(0.6545620870113875), pvalue=np.float64(3.830284347531854e-43))\n",
            "Normalidade (Shapiro) - Preço Casa: ShapiroResult(statistic=np.float64(0.49653585891247876), pvalue=np.float64(2.5624579164839843e-14))\n"
          ]
        },
        {
          "output_type": "display_data",
          "data": {
            "text/plain": [
              "<Figure size 1000x500 with 2 Axes>"
            ],
            "image/png": "[encoded data removed]"
          },
          "metadata": {}
        },
        {
          "output_type": "stream",
          "name": "stdout",
          "text": [
            "Os dados não seguem uma distribuição normal.\n"
          ]
        }
      ],
      "source": [
        "# 5. Testes de normalidade (Shapiro-Wilk)\n",
        "print(\"Normalidade (Shapiro) - Preço Apto:\", stats.shapiro(houses[houses['type'] == 'apart']['price']))\n",
        "print(\"Normalidade (Shapiro) - Preço Casa:\", stats.shapiro(houses[houses['type'] == 'house']['price']))\n",
        "\n",
        "# qqplot\n",
        "plt.figure(figsize=(10, 5))\n",
        "plt.subplot(1, 2, 1)\n",
        "stats.probplot(houses[houses['type'] == 'apart']['price'], dist=\"norm\", plot=plt)\n",
        "plt.title('Q-Q Plot - Preço Apto')\n",
        "plt.subplot(1, 2, 2)\n",
        "stats.probplot(houses[houses['type'] == 'house']['price'], dist=\"norm\", plot=plt)\n",
        "plt.title('Q-Q Plot - Preço Casa')\n",
        "plt.tight_layout()\n",
        "plt.show()\n",
        "\n",
        "# verificar a normalidade dos dados\n",
        "if stats.shapiro(houses['price'])[1] > 0.05:\n",
        "    print(\"Os dados seguem uma distribuição normal.\")\n",
        "else:\n",
        "    print(\"Os dados não seguem uma distribuição normal.\")"
      ]
    },
    {
      "cell_type": "markdown",
      "id": "74a6b3c9",
      "metadata": {
        "id": "74a6b3c9"
      },
      "source": [
        "Nesse caso, podemos usar o teste de Mann-Whitney para comparar os preços entre os dois tipos de imóveis."
      ]
    },
    {
      "cell_type": "markdown",
      "id": "ccf07578",
      "metadata": {
        "id": "ccf07578"
      },
      "source": [
        "### Aplicando o teste"
      ]
    },
    {
      "cell_type": "code",
      "execution_count": 23,
      "id": "1aa6b5a6",
      "metadata": {
        "id": "1aa6b5a6",
        "outputId": "9c5cdb7b-067f-4439-fe71-6edca1e70bde",
        "colab": {
          "base_uri": "https://localhost:8080/"
        }
      },
      "outputs": [
        {
          "output_type": "stream",
          "name": "stdout",
          "text": [
            "Teste de Mann-Whitney U entre os preços dos tipos de imóveis:\n",
            "pvalue: 0.0842184084663507\n",
            "Não rejeitamos a hipótese nula: não há diferença significativa entre os preços dos tipos de imóveis.\n"
          ]
        }
      ],
      "source": [
        "# Teste de Mann-Whitney U\n",
        "print(\"Teste de Mann-Whitney U entre os preços dos tipos de imóveis:\")\n",
        "print(f\"pvalue: {stats.mannwhitneyu(houses[houses['type'] == 'apart']['price'],houses[houses['type'] == 'house']['price'])[1]}\")\n",
        "\n",
        "# conclusão\n",
        "if stats.mannwhitneyu(houses[houses['type'] == 'apart']['price'],\n",
        "                             houses[houses['type'] == 'house']['price'])[1] < 0.05:\n",
        "    print(\"Rejeitamos a hipótese nula: há diferença significativa entre os preços dos tipos de imóveis.\")\n",
        "else:\n",
        "    print(\"Não rejeitamos a hipótese nula: não há diferença significativa entre os preços dos tipos de imóveis.\")"
      ]
    },
    {
      "cell_type": "code",
      "execution_count": 26,
      "id": "e0ffc9de",
      "metadata": {
        "id": "e0ffc9de",
        "outputId": "5c5ae247-c1ca-48d4-c7b8-3fc80b859d4f",
        "colab": {
          "base_uri": "https://localhost:8080/"
        }
      },
      "outputs": [
        {
          "output_type": "stream",
          "name": "stdout",
          "text": [
            "Teste de Mann-Whitney U entre os preços por m2 dos tipos de imóveis:\n",
            "pvalue: 1.3483508407725817e-15\n",
            "Rejeitamos a hipótese nula: há diferença significativa entre os preços por m2 dos tipos de imóveis.\n"
          ]
        }
      ],
      "source": [
        "# mesmo teste para o preço por m2\n",
        "print(\"Teste de Mann-Whitney U entre os preços por m2 dos tipos de imóveis:\")\n",
        "print(f\"pvalue: {stats.mannwhitneyu(houses[houses['type'] == 'apart']['price_m2'], houses[houses['type'] == 'house']['price_m2'])[1]}\")\n",
        "\n",
        "\n",
        "# conclusão\n",
        "if stats.mannwhitneyu(houses[houses['type'] == 'apart']['price_m2'],\n",
        "                             houses[houses['type'] == 'house']['price_m2'])[1] < 0.05:\n",
        "    print(\"Rejeitamos a hipótese nula: há diferença significativa entre os preços por m2 dos tipos de imóveis.\")\n",
        "else:\n",
        "    print(\"Não rejeitamos a hipótese nula: não há diferença significativa entre os preços por m2 dos tipos de imóveis.\")"
      ]
    },
    {
      "cell_type": "markdown",
      "id": "b74857a5",
      "metadata": {
        "id": "b74857a5"
      },
      "source": [
        "# Exercício\n",
        "\n",
        "Realize a mesma análise comparando dois bairros que possuam um grande número de imóveis nos dados."
      ]
    },
    {
      "cell_type": "code",
      "execution_count": null,
      "id": "f5caf10a",
      "metadata": {
        "id": "f5caf10a"
      },
      "outputs": [],
      "source": [
        "# sua resposta"
      ]
    }
  ],
  "metadata": {
    "kernelspec": {
      "display_name": "teaching",
      "language": "python",
      "name": "python3"
    },
    "language_info": {
      "codemirror_mode": {
        "name": "ipython",
        "version": 3
      },
      "file_extension": ".py",
      "mimetype": "text/x-python",
      "name": "python",
      "nbconvert_exporter": "python",
      "pygments_lexer": "ipython3",
      "version": "3.12.0"
    },
    "colab": {
      "provenance": []
    }
  },
  "nbformat": 4,
  "nbformat_minor": 5
}